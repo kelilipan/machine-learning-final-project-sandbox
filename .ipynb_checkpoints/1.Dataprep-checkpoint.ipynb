{
 "cells": [
  {
   "cell_type": "markdown",
   "metadata": {},
   "source": [
    "# 1.Data Exploration & Data preparation"
   ]
  },
  {
   "cell_type": "markdown",
   "metadata": {},
   "source": [
    "Import important libraries"
   ]
  },
  {
   "cell_type": "code",
   "execution_count": 53,
   "metadata": {},
   "outputs": [],
   "source": [
    "import pandas as pd\n",
    "import numpy as np\n",
    "import matplotlib as mpl\n",
    "import matplotlib.pyplot as plt\n",
    "import seaborn as sns\n",
    "sns.set()\n",
    "%matplotlib inline"
   ]
  },
  {
   "cell_type": "markdown",
   "metadata": {},
   "source": [
    "Load data then show .head & describe them."
   ]
  },
  {
   "cell_type": "code",
   "execution_count": 2,
   "metadata": {},
   "outputs": [],
   "source": [
    "df = pd.read_csv('fifa20.csv')"
   ]
  },
  {
   "cell_type": "code",
   "execution_count": 3,
   "metadata": {},
   "outputs": [
    {
     "data": {
      "text/html": [
       "<div>\n",
       "<style scoped>\n",
       "    .dataframe tbody tr th:only-of-type {\n",
       "        vertical-align: middle;\n",
       "    }\n",
       "\n",
       "    .dataframe tbody tr th {\n",
       "        vertical-align: top;\n",
       "    }\n",
       "\n",
       "    .dataframe thead th {\n",
       "        text-align: right;\n",
       "    }\n",
       "</style>\n",
       "<table border=\"1\" class=\"dataframe\">\n",
       "  <thead>\n",
       "    <tr style=\"text-align: right;\">\n",
       "      <th></th>\n",
       "      <th>sofifa_id</th>\n",
       "      <th>player_url</th>\n",
       "      <th>short_name</th>\n",
       "      <th>long_name</th>\n",
       "      <th>age</th>\n",
       "      <th>dob</th>\n",
       "      <th>height_cm</th>\n",
       "      <th>weight_kg</th>\n",
       "      <th>nationality</th>\n",
       "      <th>club</th>\n",
       "      <th>...</th>\n",
       "      <th>lwb</th>\n",
       "      <th>ldm</th>\n",
       "      <th>cdm</th>\n",
       "      <th>rdm</th>\n",
       "      <th>rwb</th>\n",
       "      <th>lb</th>\n",
       "      <th>lcb</th>\n",
       "      <th>cb</th>\n",
       "      <th>rcb</th>\n",
       "      <th>rb</th>\n",
       "    </tr>\n",
       "  </thead>\n",
       "  <tbody>\n",
       "    <tr>\n",
       "      <th>0</th>\n",
       "      <td>158023</td>\n",
       "      <td>https://sofifa.com/player/158023/lionel-messi/...</td>\n",
       "      <td>L. Messi</td>\n",
       "      <td>Lionel Andrés Messi Cuccittini</td>\n",
       "      <td>32</td>\n",
       "      <td>1987-06-24</td>\n",
       "      <td>170</td>\n",
       "      <td>72</td>\n",
       "      <td>Argentina</td>\n",
       "      <td>FC Barcelona</td>\n",
       "      <td>...</td>\n",
       "      <td>68+2</td>\n",
       "      <td>66+2</td>\n",
       "      <td>66+2</td>\n",
       "      <td>66+2</td>\n",
       "      <td>68+2</td>\n",
       "      <td>63+2</td>\n",
       "      <td>52+2</td>\n",
       "      <td>52+2</td>\n",
       "      <td>52+2</td>\n",
       "      <td>63+2</td>\n",
       "    </tr>\n",
       "    <tr>\n",
       "      <th>1</th>\n",
       "      <td>20801</td>\n",
       "      <td>https://sofifa.com/player/20801/c-ronaldo-dos-...</td>\n",
       "      <td>Cristiano Ronaldo</td>\n",
       "      <td>Cristiano Ronaldo dos Santos Aveiro</td>\n",
       "      <td>34</td>\n",
       "      <td>1985-02-05</td>\n",
       "      <td>187</td>\n",
       "      <td>83</td>\n",
       "      <td>Portugal</td>\n",
       "      <td>Juventus</td>\n",
       "      <td>...</td>\n",
       "      <td>65+3</td>\n",
       "      <td>61+3</td>\n",
       "      <td>61+3</td>\n",
       "      <td>61+3</td>\n",
       "      <td>65+3</td>\n",
       "      <td>61+3</td>\n",
       "      <td>53+3</td>\n",
       "      <td>53+3</td>\n",
       "      <td>53+3</td>\n",
       "      <td>61+3</td>\n",
       "    </tr>\n",
       "    <tr>\n",
       "      <th>2</th>\n",
       "      <td>190871</td>\n",
       "      <td>https://sofifa.com/player/190871/neymar-da-sil...</td>\n",
       "      <td>Neymar Jr</td>\n",
       "      <td>Neymar da Silva Santos Junior</td>\n",
       "      <td>27</td>\n",
       "      <td>1992-02-05</td>\n",
       "      <td>175</td>\n",
       "      <td>68</td>\n",
       "      <td>Brazil</td>\n",
       "      <td>Paris Saint-Germain</td>\n",
       "      <td>...</td>\n",
       "      <td>66+3</td>\n",
       "      <td>61+3</td>\n",
       "      <td>61+3</td>\n",
       "      <td>61+3</td>\n",
       "      <td>66+3</td>\n",
       "      <td>61+3</td>\n",
       "      <td>46+3</td>\n",
       "      <td>46+3</td>\n",
       "      <td>46+3</td>\n",
       "      <td>61+3</td>\n",
       "    </tr>\n",
       "    <tr>\n",
       "      <th>3</th>\n",
       "      <td>200389</td>\n",
       "      <td>https://sofifa.com/player/200389/jan-oblak/20/...</td>\n",
       "      <td>J. Oblak</td>\n",
       "      <td>Jan Oblak</td>\n",
       "      <td>26</td>\n",
       "      <td>1993-01-07</td>\n",
       "      <td>188</td>\n",
       "      <td>87</td>\n",
       "      <td>Slovenia</td>\n",
       "      <td>Atlético Madrid</td>\n",
       "      <td>...</td>\n",
       "      <td>NaN</td>\n",
       "      <td>NaN</td>\n",
       "      <td>NaN</td>\n",
       "      <td>NaN</td>\n",
       "      <td>NaN</td>\n",
       "      <td>NaN</td>\n",
       "      <td>NaN</td>\n",
       "      <td>NaN</td>\n",
       "      <td>NaN</td>\n",
       "      <td>NaN</td>\n",
       "    </tr>\n",
       "    <tr>\n",
       "      <th>4</th>\n",
       "      <td>183277</td>\n",
       "      <td>https://sofifa.com/player/183277/eden-hazard/2...</td>\n",
       "      <td>E. Hazard</td>\n",
       "      <td>Eden Hazard</td>\n",
       "      <td>28</td>\n",
       "      <td>1991-01-07</td>\n",
       "      <td>175</td>\n",
       "      <td>74</td>\n",
       "      <td>Belgium</td>\n",
       "      <td>Real Madrid</td>\n",
       "      <td>...</td>\n",
       "      <td>66+3</td>\n",
       "      <td>63+3</td>\n",
       "      <td>63+3</td>\n",
       "      <td>63+3</td>\n",
       "      <td>66+3</td>\n",
       "      <td>61+3</td>\n",
       "      <td>49+3</td>\n",
       "      <td>49+3</td>\n",
       "      <td>49+3</td>\n",
       "      <td>61+3</td>\n",
       "    </tr>\n",
       "  </tbody>\n",
       "</table>\n",
       "<p>5 rows × 104 columns</p>\n",
       "</div>"
      ],
      "text/plain": [
       "   sofifa_id                                         player_url  \\\n",
       "0     158023  https://sofifa.com/player/158023/lionel-messi/...   \n",
       "1      20801  https://sofifa.com/player/20801/c-ronaldo-dos-...   \n",
       "2     190871  https://sofifa.com/player/190871/neymar-da-sil...   \n",
       "3     200389  https://sofifa.com/player/200389/jan-oblak/20/...   \n",
       "4     183277  https://sofifa.com/player/183277/eden-hazard/2...   \n",
       "\n",
       "          short_name                            long_name  age         dob  \\\n",
       "0           L. Messi       Lionel Andrés Messi Cuccittini   32  1987-06-24   \n",
       "1  Cristiano Ronaldo  Cristiano Ronaldo dos Santos Aveiro   34  1985-02-05   \n",
       "2          Neymar Jr        Neymar da Silva Santos Junior   27  1992-02-05   \n",
       "3           J. Oblak                            Jan Oblak   26  1993-01-07   \n",
       "4          E. Hazard                          Eden Hazard   28  1991-01-07   \n",
       "\n",
       "   height_cm  weight_kg nationality                 club  ...   lwb   ldm  \\\n",
       "0        170         72   Argentina         FC Barcelona  ...  68+2  66+2   \n",
       "1        187         83    Portugal             Juventus  ...  65+3  61+3   \n",
       "2        175         68      Brazil  Paris Saint-Germain  ...  66+3  61+3   \n",
       "3        188         87    Slovenia      Atlético Madrid  ...   NaN   NaN   \n",
       "4        175         74     Belgium          Real Madrid  ...  66+3  63+3   \n",
       "\n",
       "    cdm   rdm   rwb    lb   lcb    cb   rcb    rb  \n",
       "0  66+2  66+2  68+2  63+2  52+2  52+2  52+2  63+2  \n",
       "1  61+3  61+3  65+3  61+3  53+3  53+3  53+3  61+3  \n",
       "2  61+3  61+3  66+3  61+3  46+3  46+3  46+3  61+3  \n",
       "3   NaN   NaN   NaN   NaN   NaN   NaN   NaN   NaN  \n",
       "4  63+3  63+3  66+3  61+3  49+3  49+3  49+3  61+3  \n",
       "\n",
       "[5 rows x 104 columns]"
      ]
     },
     "execution_count": 3,
     "metadata": {},
     "output_type": "execute_result"
    }
   ],
   "source": [
    "df.head()"
   ]
  },
  {
   "cell_type": "code",
   "execution_count": 20,
   "metadata": {},
   "outputs": [
    {
     "data": {
      "text/html": [
       "<div>\n",
       "<style scoped>\n",
       "    .dataframe tbody tr th:only-of-type {\n",
       "        vertical-align: middle;\n",
       "    }\n",
       "\n",
       "    .dataframe tbody tr th {\n",
       "        vertical-align: top;\n",
       "    }\n",
       "\n",
       "    .dataframe thead th {\n",
       "        text-align: right;\n",
       "    }\n",
       "</style>\n",
       "<table border=\"1\" class=\"dataframe\">\n",
       "  <thead>\n",
       "    <tr style=\"text-align: right;\">\n",
       "      <th></th>\n",
       "      <th>sofifa_id</th>\n",
       "      <th>age</th>\n",
       "      <th>height_cm</th>\n",
       "      <th>weight_kg</th>\n",
       "      <th>overall</th>\n",
       "      <th>potential</th>\n",
       "      <th>value_eur</th>\n",
       "      <th>wage_eur</th>\n",
       "      <th>international_reputation</th>\n",
       "      <th>weak_foot</th>\n",
       "      <th>...</th>\n",
       "      <th>mentality_penalties</th>\n",
       "      <th>mentality_composure</th>\n",
       "      <th>defending_marking</th>\n",
       "      <th>defending_standing_tackle</th>\n",
       "      <th>defending_sliding_tackle</th>\n",
       "      <th>goalkeeping_diving</th>\n",
       "      <th>goalkeeping_handling</th>\n",
       "      <th>goalkeeping_kicking</th>\n",
       "      <th>goalkeeping_positioning</th>\n",
       "      <th>goalkeeping_reflexes</th>\n",
       "    </tr>\n",
       "  </thead>\n",
       "  <tbody>\n",
       "    <tr>\n",
       "      <th>count</th>\n",
       "      <td>18278.000000</td>\n",
       "      <td>18278.000000</td>\n",
       "      <td>18278.000000</td>\n",
       "      <td>18278.000000</td>\n",
       "      <td>18278.000000</td>\n",
       "      <td>18278.000000</td>\n",
       "      <td>1.827800e+04</td>\n",
       "      <td>18278.000000</td>\n",
       "      <td>18278.000000</td>\n",
       "      <td>18278.000000</td>\n",
       "      <td>...</td>\n",
       "      <td>18278.000000</td>\n",
       "      <td>18278.000000</td>\n",
       "      <td>18278.000000</td>\n",
       "      <td>18278.000000</td>\n",
       "      <td>18278.000000</td>\n",
       "      <td>18278.000000</td>\n",
       "      <td>18278.000000</td>\n",
       "      <td>18278.000000</td>\n",
       "      <td>18278.000000</td>\n",
       "      <td>18278.000000</td>\n",
       "    </tr>\n",
       "    <tr>\n",
       "      <th>mean</th>\n",
       "      <td>219738.864482</td>\n",
       "      <td>25.283291</td>\n",
       "      <td>181.362184</td>\n",
       "      <td>75.276343</td>\n",
       "      <td>66.244994</td>\n",
       "      <td>71.546887</td>\n",
       "      <td>2.484038e+06</td>\n",
       "      <td>9456.942773</td>\n",
       "      <td>1.103184</td>\n",
       "      <td>2.944250</td>\n",
       "      <td>...</td>\n",
       "      <td>48.383357</td>\n",
       "      <td>58.528778</td>\n",
       "      <td>46.848889</td>\n",
       "      <td>47.640333</td>\n",
       "      <td>45.606631</td>\n",
       "      <td>16.572765</td>\n",
       "      <td>16.354853</td>\n",
       "      <td>16.212934</td>\n",
       "      <td>16.368038</td>\n",
       "      <td>16.709924</td>\n",
       "    </tr>\n",
       "    <tr>\n",
       "      <th>std</th>\n",
       "      <td>27960.200461</td>\n",
       "      <td>4.656964</td>\n",
       "      <td>6.756961</td>\n",
       "      <td>7.047744</td>\n",
       "      <td>6.949953</td>\n",
       "      <td>6.139669</td>\n",
       "      <td>5.585481e+06</td>\n",
       "      <td>21351.714095</td>\n",
       "      <td>0.378861</td>\n",
       "      <td>0.664656</td>\n",
       "      <td>...</td>\n",
       "      <td>15.708099</td>\n",
       "      <td>11.880840</td>\n",
       "      <td>20.091287</td>\n",
       "      <td>21.585641</td>\n",
       "      <td>21.217734</td>\n",
       "      <td>17.738069</td>\n",
       "      <td>16.996925</td>\n",
       "      <td>16.613665</td>\n",
       "      <td>17.136497</td>\n",
       "      <td>18.038125</td>\n",
       "    </tr>\n",
       "    <tr>\n",
       "      <th>min</th>\n",
       "      <td>768.000000</td>\n",
       "      <td>16.000000</td>\n",
       "      <td>156.000000</td>\n",
       "      <td>50.000000</td>\n",
       "      <td>48.000000</td>\n",
       "      <td>49.000000</td>\n",
       "      <td>0.000000e+00</td>\n",
       "      <td>0.000000</td>\n",
       "      <td>1.000000</td>\n",
       "      <td>1.000000</td>\n",
       "      <td>...</td>\n",
       "      <td>7.000000</td>\n",
       "      <td>12.000000</td>\n",
       "      <td>1.000000</td>\n",
       "      <td>5.000000</td>\n",
       "      <td>3.000000</td>\n",
       "      <td>1.000000</td>\n",
       "      <td>1.000000</td>\n",
       "      <td>1.000000</td>\n",
       "      <td>1.000000</td>\n",
       "      <td>1.000000</td>\n",
       "    </tr>\n",
       "    <tr>\n",
       "      <th>25%</th>\n",
       "      <td>204445.500000</td>\n",
       "      <td>22.000000</td>\n",
       "      <td>177.000000</td>\n",
       "      <td>70.000000</td>\n",
       "      <td>62.000000</td>\n",
       "      <td>67.000000</td>\n",
       "      <td>3.250000e+05</td>\n",
       "      <td>1000.000000</td>\n",
       "      <td>1.000000</td>\n",
       "      <td>3.000000</td>\n",
       "      <td>...</td>\n",
       "      <td>39.000000</td>\n",
       "      <td>51.000000</td>\n",
       "      <td>29.000000</td>\n",
       "      <td>27.000000</td>\n",
       "      <td>24.000000</td>\n",
       "      <td>8.000000</td>\n",
       "      <td>8.000000</td>\n",
       "      <td>8.000000</td>\n",
       "      <td>8.000000</td>\n",
       "      <td>8.000000</td>\n",
       "    </tr>\n",
       "    <tr>\n",
       "      <th>50%</th>\n",
       "      <td>226165.000000</td>\n",
       "      <td>25.000000</td>\n",
       "      <td>181.000000</td>\n",
       "      <td>75.000000</td>\n",
       "      <td>66.000000</td>\n",
       "      <td>71.000000</td>\n",
       "      <td>7.000000e+05</td>\n",
       "      <td>3000.000000</td>\n",
       "      <td>1.000000</td>\n",
       "      <td>3.000000</td>\n",
       "      <td>...</td>\n",
       "      <td>49.000000</td>\n",
       "      <td>60.000000</td>\n",
       "      <td>52.000000</td>\n",
       "      <td>55.000000</td>\n",
       "      <td>52.000000</td>\n",
       "      <td>11.000000</td>\n",
       "      <td>11.000000</td>\n",
       "      <td>11.000000</td>\n",
       "      <td>11.000000</td>\n",
       "      <td>11.000000</td>\n",
       "    </tr>\n",
       "    <tr>\n",
       "      <th>75%</th>\n",
       "      <td>240795.750000</td>\n",
       "      <td>29.000000</td>\n",
       "      <td>186.000000</td>\n",
       "      <td>80.000000</td>\n",
       "      <td>71.000000</td>\n",
       "      <td>75.000000</td>\n",
       "      <td>2.100000e+06</td>\n",
       "      <td>8000.000000</td>\n",
       "      <td>1.000000</td>\n",
       "      <td>3.000000</td>\n",
       "      <td>...</td>\n",
       "      <td>60.000000</td>\n",
       "      <td>67.000000</td>\n",
       "      <td>64.000000</td>\n",
       "      <td>66.000000</td>\n",
       "      <td>64.000000</td>\n",
       "      <td>14.000000</td>\n",
       "      <td>14.000000</td>\n",
       "      <td>14.000000</td>\n",
       "      <td>14.000000</td>\n",
       "      <td>14.000000</td>\n",
       "    </tr>\n",
       "    <tr>\n",
       "      <th>max</th>\n",
       "      <td>252905.000000</td>\n",
       "      <td>42.000000</td>\n",
       "      <td>205.000000</td>\n",
       "      <td>110.000000</td>\n",
       "      <td>94.000000</td>\n",
       "      <td>95.000000</td>\n",
       "      <td>1.055000e+08</td>\n",
       "      <td>565000.000000</td>\n",
       "      <td>5.000000</td>\n",
       "      <td>5.000000</td>\n",
       "      <td>...</td>\n",
       "      <td>92.000000</td>\n",
       "      <td>96.000000</td>\n",
       "      <td>94.000000</td>\n",
       "      <td>92.000000</td>\n",
       "      <td>90.000000</td>\n",
       "      <td>90.000000</td>\n",
       "      <td>92.000000</td>\n",
       "      <td>93.000000</td>\n",
       "      <td>91.000000</td>\n",
       "      <td>92.000000</td>\n",
       "    </tr>\n",
       "  </tbody>\n",
       "</table>\n",
       "<p>8 rows × 61 columns</p>\n",
       "</div>"
      ],
      "text/plain": [
       "           sofifa_id           age     height_cm     weight_kg       overall  \\\n",
       "count   18278.000000  18278.000000  18278.000000  18278.000000  18278.000000   \n",
       "mean   219738.864482     25.283291    181.362184     75.276343     66.244994   \n",
       "std     27960.200461      4.656964      6.756961      7.047744      6.949953   \n",
       "min       768.000000     16.000000    156.000000     50.000000     48.000000   \n",
       "25%    204445.500000     22.000000    177.000000     70.000000     62.000000   \n",
       "50%    226165.000000     25.000000    181.000000     75.000000     66.000000   \n",
       "75%    240795.750000     29.000000    186.000000     80.000000     71.000000   \n",
       "max    252905.000000     42.000000    205.000000    110.000000     94.000000   \n",
       "\n",
       "          potential     value_eur       wage_eur  international_reputation  \\\n",
       "count  18278.000000  1.827800e+04   18278.000000              18278.000000   \n",
       "mean      71.546887  2.484038e+06    9456.942773                  1.103184   \n",
       "std        6.139669  5.585481e+06   21351.714095                  0.378861   \n",
       "min       49.000000  0.000000e+00       0.000000                  1.000000   \n",
       "25%       67.000000  3.250000e+05    1000.000000                  1.000000   \n",
       "50%       71.000000  7.000000e+05    3000.000000                  1.000000   \n",
       "75%       75.000000  2.100000e+06    8000.000000                  1.000000   \n",
       "max       95.000000  1.055000e+08  565000.000000                  5.000000   \n",
       "\n",
       "          weak_foot  ...  mentality_penalties  mentality_composure  \\\n",
       "count  18278.000000  ...         18278.000000         18278.000000   \n",
       "mean       2.944250  ...            48.383357            58.528778   \n",
       "std        0.664656  ...            15.708099            11.880840   \n",
       "min        1.000000  ...             7.000000            12.000000   \n",
       "25%        3.000000  ...            39.000000            51.000000   \n",
       "50%        3.000000  ...            49.000000            60.000000   \n",
       "75%        3.000000  ...            60.000000            67.000000   \n",
       "max        5.000000  ...            92.000000            96.000000   \n",
       "\n",
       "       defending_marking  defending_standing_tackle  defending_sliding_tackle  \\\n",
       "count       18278.000000               18278.000000              18278.000000   \n",
       "mean           46.848889                  47.640333                 45.606631   \n",
       "std            20.091287                  21.585641                 21.217734   \n",
       "min             1.000000                   5.000000                  3.000000   \n",
       "25%            29.000000                  27.000000                 24.000000   \n",
       "50%            52.000000                  55.000000                 52.000000   \n",
       "75%            64.000000                  66.000000                 64.000000   \n",
       "max            94.000000                  92.000000                 90.000000   \n",
       "\n",
       "       goalkeeping_diving  goalkeeping_handling  goalkeeping_kicking  \\\n",
       "count        18278.000000          18278.000000         18278.000000   \n",
       "mean            16.572765             16.354853            16.212934   \n",
       "std             17.738069             16.996925            16.613665   \n",
       "min              1.000000              1.000000             1.000000   \n",
       "25%              8.000000              8.000000             8.000000   \n",
       "50%             11.000000             11.000000            11.000000   \n",
       "75%             14.000000             14.000000            14.000000   \n",
       "max             90.000000             92.000000            93.000000   \n",
       "\n",
       "       goalkeeping_positioning  goalkeeping_reflexes  \n",
       "count             18278.000000          18278.000000  \n",
       "mean                 16.368038             16.709924  \n",
       "std                  17.136497             18.038125  \n",
       "min                   1.000000              1.000000  \n",
       "25%                   8.000000              8.000000  \n",
       "50%                  11.000000             11.000000  \n",
       "75%                  14.000000             14.000000  \n",
       "max                  91.000000             92.000000  \n",
       "\n",
       "[8 rows x 61 columns]"
      ]
     },
     "execution_count": 20,
     "metadata": {},
     "output_type": "execute_result"
    }
   ],
   "source": [
    "df.describe()"
   ]
  },
  {
   "cell_type": "markdown",
   "metadata": {},
   "source": [
    "## Detect Nan\n",
    "Check null values before proceed."
   ]
  },
  {
   "cell_type": "code",
   "execution_count": 39,
   "metadata": {},
   "outputs": [
    {
     "data": {
      "text/plain": [
       "(array([], dtype=int64),)"
      ]
     },
     "execution_count": 39,
     "metadata": {},
     "output_type": "execute_result"
    }
   ],
   "source": [
    "np.where(pd.isnull(df[\"player_positions\"]))"
   ]
  },
  {
   "cell_type": "markdown",
   "metadata": {},
   "source": [
    "### Binning data"
   ]
  },
  {
   "cell_type": "code",
   "execution_count": 14,
   "metadata": {},
   "outputs": [
    {
     "data": {
      "text/plain": [
       "643"
      ]
     },
     "execution_count": 14,
     "metadata": {},
     "output_type": "execute_result"
    }
   ],
   "source": [
    "len(df[\"player_positions\"].unique())"
   ]
  },
  {
   "cell_type": "code",
   "execution_count": 15,
   "metadata": {},
   "outputs": [
    {
     "data": {
      "text/plain": [
       "'RW, CF, ST'"
      ]
     },
     "execution_count": 15,
     "metadata": {},
     "output_type": "execute_result"
    }
   ],
   "source": [
    "df['player_positions'][0] #lionel messi have 3 player_positions"
   ]
  },
  {
   "cell_type": "markdown",
   "metadata": {},
   "source": [
    "player_positions have a lots of classes and some player have combination of many position.\n",
    "\n",
    "I assume the first position is the best position."
   ]
  },
  {
   "cell_type": "code",
   "execution_count": 16,
   "metadata": {},
   "outputs": [],
   "source": [
    "df['best_pos'] = df['player_positions'].str.split(',').str[0]\n",
    "df_player = df.copy() #make new dataframe"
   ]
  },
  {
   "cell_type": "markdown",
   "metadata": {},
   "source": [
    "Plot the best_pos distribution"
   ]
  },
  {
   "cell_type": "code",
   "execution_count": 17,
   "metadata": {},
   "outputs": [
    {
     "data": {
      "image/png": "[encoded data removed]",
      "text/plain": [
       "<Figure size 1152x432 with 1 Axes>"
      ]
     },
     "metadata": {
      "needs_background": "light"
     },
     "output_type": "display_data"
    }
   ],
   "source": [
    "plt.figure(figsize=(16,6))\n",
    "# mpl.rcParams['figure.dpi'] = 100\n",
    "f = sns.countplot(x='best_pos', data=df_player)\n",
    "f.set_title(\"best_pos distribution\")\n",
    "plt.show()"
   ]
  },
  {
   "cell_type": "markdown",
   "metadata": {},
   "source": [
    "The data looks cleaner"
   ]
  },
  {
   "cell_type": "markdown",
   "metadata": {},
   "source": [
    "Map position to *8 classes/Category*, based on this https://en.wikipedia.org/wiki/Association_football_positions#Centre_forward"
   ]
  },
  {
   "cell_type": "code",
   "execution_count": 18,
   "metadata": {},
   "outputs": [],
   "source": [
    "df_player['best_pos'] = df_player['best_pos'].map({\n",
    "    'ST': 'Fwd_Centre', #Striker\n",
    "    'CF': 'Fwd_Centre', #Center Foward\n",
    "    'LW': 'Fwd_Winger', #left wing\n",
    "    'RW': 'Fwd_Winger', #Right wing\n",
    "    'CM': 'Mid_Centre', #Centre midfield\n",
    "    'CAM': 'Mid_Centre', #Centre ATTACK midfield\n",
    "    'CDM': 'Mid_Centre', #Centre Deffensive midfield\n",
    "    'LM': 'Mid_Side',  #Left mid side\n",
    "    'RM': 'Mid_Side', #Right mid side\n",
    "    'CB': 'Back_Centre', #Center Back\n",
    "    'LB': 'Back_Side', #Left Back\n",
    "    'RB': 'Back_Side', #Right Back\n",
    "    'LWB': 'Back_Winger', #Left wing back\n",
    "    'RWB': 'Back_Winger', #Right Wing back\n",
    "    'GK': 'Goal_Keeper',}) #Goalkeeper ofc\n",
    "\n",
    "classes = ['Back_Centre',\n",
    "    'Back_Side',\n",
    "    'Back_Winger',\n",
    "    'Mid_Centre',\n",
    "    'Mid_Side',\n",
    "    'Fwd_Centre',\n",
    "    'Fwd_Winger',\n",
    "    'Goal_Keeper']"
   ]
  },
  {
   "cell_type": "code",
   "execution_count": 45,
   "metadata": {},
   "outputs": [
    {
     "data": {
      "image/png": "[encoded data removed]",
      "text/plain": [
       "<Figure size 1152x432 with 1 Axes>"
      ]
     },
     "metadata": {
      "needs_background": "light"
     },
     "output_type": "display_data"
    }
   ],
   "source": [
    "plt.figure(figsize=(16,6))\n",
    "# mpl.rcParams['figure.dpi'] = 100\n",
    "f = sns.countplot(x='best_pos', data=df_player)\n",
    "f.set_title(\"best_pos distribution\")\n",
    "plt.show()"
   ]
  },
  {
   "cell_type": "code",
   "execution_count": 55,
   "metadata": {},
   "outputs": [
    {
     "data": {
      "text/plain": [
       "count          18278\n",
       "unique             8\n",
       "top       Mid_Centre\n",
       "freq            4763\n",
       "Name: best_pos, dtype: object"
      ]
     },
     "execution_count": 55,
     "metadata": {},
     "output_type": "execute_result"
    }
   ],
   "source": [
    "df_player['best_pos'].describe()"
   ]
  },
  {
   "cell_type": "markdown",
   "metadata": {},
   "source": [
    "The data distribution looks VERY _IMBALANCE_, so probably i will not use accurary for evaluation or implement a cross validation."
   ]
  },
  {
   "cell_type": "code",
   "execution_count": 56,
   "metadata": {},
   "outputs": [],
   "source": [
    "#save data to new file"
   ]
  },
  {
   "cell_type": "code",
   "execution_count": 60,
   "metadata": {},
   "outputs": [],
   "source": [
    "df_player.to_csv('data/main_dataset.csv')"
   ]
  }
 ],
 "metadata": {
  "kernelspec": {
   "display_name": "Python 3",
   "language": "python",
   "name": "python3"
  },
  "language_info": {
   "codemirror_mode": {
    "name": "ipython",
    "version": 3
   },
   "file_extension": ".py",
   "mimetype": "text/x-python",
   "name": "python",
   "nbconvert_exporter": "python",
   "pygments_lexer": "ipython3",
   "version": "3.7.4"
  }
 },
 "nbformat": 4,
 "nbformat_minor": 4
}
