{
 "cells": [
  {
   "cell_type": "markdown",
   "metadata": {},
   "source": [
    "# Clustering"
   ]
  },
  {
   "cell_type": "code",
   "execution_count": 1,
   "metadata": {},
   "outputs": [],
   "source": [
    "#import library\n",
    "import pandas as pd\n",
    "import numpy as np\n",
    "import matplotlib as mpl\n",
    "import matplotlib.pyplot as plt\n",
    "import seaborn as sns\n",
    "import joblib\n",
    "from IPython.display import clear_output\n",
    "sns.set()\n",
    "np.random.seed(42)\n",
    "%matplotlib inline"
   ]
  },
  {
   "cell_type": "code",
   "execution_count": 2,
   "metadata": {},
   "outputs": [
    {
     "data": {
      "text/html": [
       "<div>\n",
       "<style scoped>\n",
       "    .dataframe tbody tr th:only-of-type {\n",
       "        vertical-align: middle;\n",
       "    }\n",
       "\n",
       "    .dataframe tbody tr th {\n",
       "        vertical-align: top;\n",
       "    }\n",
       "\n",
       "    .dataframe thead th {\n",
       "        text-align: right;\n",
       "    }\n",
       "</style>\n",
       "<table border=\"1\" class=\"dataframe\">\n",
       "  <thead>\n",
       "    <tr style=\"text-align: right;\">\n",
       "      <th></th>\n",
       "      <th>Unnamed: 0</th>\n",
       "      <th>sofifa_id</th>\n",
       "      <th>age</th>\n",
       "      <th>height_cm</th>\n",
       "      <th>weight_kg</th>\n",
       "      <th>overall</th>\n",
       "      <th>potential</th>\n",
       "      <th>value_eur</th>\n",
       "      <th>wage_eur</th>\n",
       "      <th>preferred_foot</th>\n",
       "      <th>...</th>\n",
       "      <th>mentality_composure</th>\n",
       "      <th>defending_marking</th>\n",
       "      <th>defending_standing_tackle</th>\n",
       "      <th>defending_sliding_tackle</th>\n",
       "      <th>goalkeeping_diving</th>\n",
       "      <th>goalkeeping_handling</th>\n",
       "      <th>goalkeeping_kicking</th>\n",
       "      <th>goalkeeping_positioning</th>\n",
       "      <th>goalkeeping_reflexes</th>\n",
       "      <th>best_pos</th>\n",
       "    </tr>\n",
       "  </thead>\n",
       "  <tbody>\n",
       "    <tr>\n",
       "      <th>0</th>\n",
       "      <td>0</td>\n",
       "      <td>158023</td>\n",
       "      <td>32</td>\n",
       "      <td>170</td>\n",
       "      <td>72</td>\n",
       "      <td>94</td>\n",
       "      <td>94</td>\n",
       "      <td>95500000</td>\n",
       "      <td>565000</td>\n",
       "      <td>Left</td>\n",
       "      <td>...</td>\n",
       "      <td>96</td>\n",
       "      <td>33</td>\n",
       "      <td>37</td>\n",
       "      <td>26</td>\n",
       "      <td>6</td>\n",
       "      <td>11</td>\n",
       "      <td>15</td>\n",
       "      <td>14</td>\n",
       "      <td>8</td>\n",
       "      <td>Fwd_Winger</td>\n",
       "    </tr>\n",
       "    <tr>\n",
       "      <th>1</th>\n",
       "      <td>1</td>\n",
       "      <td>20801</td>\n",
       "      <td>34</td>\n",
       "      <td>187</td>\n",
       "      <td>83</td>\n",
       "      <td>93</td>\n",
       "      <td>93</td>\n",
       "      <td>58500000</td>\n",
       "      <td>405000</td>\n",
       "      <td>Right</td>\n",
       "      <td>...</td>\n",
       "      <td>95</td>\n",
       "      <td>28</td>\n",
       "      <td>32</td>\n",
       "      <td>24</td>\n",
       "      <td>7</td>\n",
       "      <td>11</td>\n",
       "      <td>15</td>\n",
       "      <td>14</td>\n",
       "      <td>11</td>\n",
       "      <td>Fwd_Centre</td>\n",
       "    </tr>\n",
       "    <tr>\n",
       "      <th>2</th>\n",
       "      <td>2</td>\n",
       "      <td>190871</td>\n",
       "      <td>27</td>\n",
       "      <td>175</td>\n",
       "      <td>68</td>\n",
       "      <td>92</td>\n",
       "      <td>92</td>\n",
       "      <td>105500000</td>\n",
       "      <td>290000</td>\n",
       "      <td>Right</td>\n",
       "      <td>...</td>\n",
       "      <td>94</td>\n",
       "      <td>27</td>\n",
       "      <td>26</td>\n",
       "      <td>29</td>\n",
       "      <td>9</td>\n",
       "      <td>9</td>\n",
       "      <td>15</td>\n",
       "      <td>15</td>\n",
       "      <td>11</td>\n",
       "      <td>Fwd_Winger</td>\n",
       "    </tr>\n",
       "    <tr>\n",
       "      <th>3</th>\n",
       "      <td>3</td>\n",
       "      <td>200389</td>\n",
       "      <td>26</td>\n",
       "      <td>188</td>\n",
       "      <td>87</td>\n",
       "      <td>91</td>\n",
       "      <td>93</td>\n",
       "      <td>77500000</td>\n",
       "      <td>125000</td>\n",
       "      <td>Right</td>\n",
       "      <td>...</td>\n",
       "      <td>68</td>\n",
       "      <td>27</td>\n",
       "      <td>12</td>\n",
       "      <td>18</td>\n",
       "      <td>87</td>\n",
       "      <td>92</td>\n",
       "      <td>78</td>\n",
       "      <td>90</td>\n",
       "      <td>89</td>\n",
       "      <td>Goal_Keeper</td>\n",
       "    </tr>\n",
       "    <tr>\n",
       "      <th>4</th>\n",
       "      <td>4</td>\n",
       "      <td>183277</td>\n",
       "      <td>28</td>\n",
       "      <td>175</td>\n",
       "      <td>74</td>\n",
       "      <td>91</td>\n",
       "      <td>91</td>\n",
       "      <td>90000000</td>\n",
       "      <td>470000</td>\n",
       "      <td>Right</td>\n",
       "      <td>...</td>\n",
       "      <td>91</td>\n",
       "      <td>34</td>\n",
       "      <td>27</td>\n",
       "      <td>22</td>\n",
       "      <td>11</td>\n",
       "      <td>12</td>\n",
       "      <td>6</td>\n",
       "      <td>8</td>\n",
       "      <td>8</td>\n",
       "      <td>Fwd_Winger</td>\n",
       "    </tr>\n",
       "  </tbody>\n",
       "</table>\n",
       "<p>5 rows × 58 columns</p>\n",
       "</div>"
      ],
      "text/plain": [
       "   Unnamed: 0  sofifa_id  age  height_cm  weight_kg  overall  potential  \\\n",
       "0           0     158023   32        170         72       94         94   \n",
       "1           1      20801   34        187         83       93         93   \n",
       "2           2     190871   27        175         68       92         92   \n",
       "3           3     200389   26        188         87       91         93   \n",
       "4           4     183277   28        175         74       91         91   \n",
       "\n",
       "   value_eur  wage_eur preferred_foot  ...  mentality_composure  \\\n",
       "0   95500000    565000           Left  ...                   96   \n",
       "1   58500000    405000          Right  ...                   95   \n",
       "2  105500000    290000          Right  ...                   94   \n",
       "3   77500000    125000          Right  ...                   68   \n",
       "4   90000000    470000          Right  ...                   91   \n",
       "\n",
       "   defending_marking  defending_standing_tackle defending_sliding_tackle  \\\n",
       "0                 33                         37                       26   \n",
       "1                 28                         32                       24   \n",
       "2                 27                         26                       29   \n",
       "3                 27                         12                       18   \n",
       "4                 34                         27                       22   \n",
       "\n",
       "  goalkeeping_diving  goalkeeping_handling goalkeeping_kicking  \\\n",
       "0                  6                    11                  15   \n",
       "1                  7                    11                  15   \n",
       "2                  9                     9                  15   \n",
       "3                 87                    92                  78   \n",
       "4                 11                    12                   6   \n",
       "\n",
       "   goalkeeping_positioning  goalkeeping_reflexes     best_pos  \n",
       "0                       14                     8   Fwd_Winger  \n",
       "1                       14                    11   Fwd_Centre  \n",
       "2                       15                    11   Fwd_Winger  \n",
       "3                       90                    89  Goal_Keeper  \n",
       "4                        8                     8   Fwd_Winger  \n",
       "\n",
       "[5 rows x 58 columns]"
      ]
     },
     "execution_count": 2,
     "metadata": {},
     "output_type": "execute_result"
    }
   ],
   "source": [
    "df = pd.read_csv('data/main_dataset.csv')\n",
    "df.head()"
   ]
  },
  {
   "cell_type": "markdown",
   "metadata": {},
   "source": [
    "Select two feature for clustering"
   ]
  },
  {
   "cell_type": "code",
   "execution_count": 3,
   "metadata": {},
   "outputs": [
    {
     "data": {
      "text/plain": [
       "<matplotlib.axes._subplots.AxesSubplot at 0x208e12f7408>"
      ]
     },
     "execution_count": 3,
     "metadata": {},
     "output_type": "execute_result"
    },
    {
     "data": {
      "image/png": "[encoded data removed]",
      "text/plain": [
       "<Figure size 720x720 with 1 Axes>"
      ]
     },
     "metadata": {
      "needs_background": "light"
     },
     "output_type": "display_data"
    }
   ],
   "source": [
    "plt.figure(figsize=(10, 10))\n",
    "sns.scatterplot(df['goalkeeping_positioning'],df['goalkeeping_reflexes'])"
   ]
  },
  {
   "cell_type": "code",
   "execution_count": 4,
   "metadata": {},
   "outputs": [],
   "source": [
    "# remove outliers\n",
    "# quantile_95 = df['weight_kg'].quantile(0.999)\n",
    "# df_95 = df[df['weight_kg'] < quantile_95]"
   ]
  },
  {
   "cell_type": "code",
   "execution_count": 5,
   "metadata": {},
   "outputs": [],
   "source": [
    "# plt.figure(figsize=(10, 10))\n",
    "# sns.scatterplot(df_95['goalkeeping_positioning'],df_95['goalkeeping_reflexes'])"
   ]
  },
  {
   "cell_type": "code",
   "execution_count": 6,
   "metadata": {},
   "outputs": [
    {
     "data": {
      "text/html": [
       "<div>\n",
       "<style scoped>\n",
       "    .dataframe tbody tr th:only-of-type {\n",
       "        vertical-align: middle;\n",
       "    }\n",
       "\n",
       "    .dataframe tbody tr th {\n",
       "        vertical-align: top;\n",
       "    }\n",
       "\n",
       "    .dataframe thead th {\n",
       "        text-align: right;\n",
       "    }\n",
       "</style>\n",
       "<table border=\"1\" class=\"dataframe\">\n",
       "  <thead>\n",
       "    <tr style=\"text-align: right;\">\n",
       "      <th></th>\n",
       "      <th>goalkeeping_positioning</th>\n",
       "      <th>goalkeeping_reflexes</th>\n",
       "    </tr>\n",
       "  </thead>\n",
       "  <tbody>\n",
       "    <tr>\n",
       "      <th>0</th>\n",
       "      <td>14</td>\n",
       "      <td>8</td>\n",
       "    </tr>\n",
       "    <tr>\n",
       "      <th>1</th>\n",
       "      <td>14</td>\n",
       "      <td>11</td>\n",
       "    </tr>\n",
       "    <tr>\n",
       "      <th>2</th>\n",
       "      <td>15</td>\n",
       "      <td>11</td>\n",
       "    </tr>\n",
       "    <tr>\n",
       "      <th>3</th>\n",
       "      <td>90</td>\n",
       "      <td>89</td>\n",
       "    </tr>\n",
       "    <tr>\n",
       "      <th>4</th>\n",
       "      <td>8</td>\n",
       "      <td>8</td>\n",
       "    </tr>\n",
       "  </tbody>\n",
       "</table>\n",
       "</div>"
      ],
      "text/plain": [
       "   goalkeeping_positioning  goalkeeping_reflexes\n",
       "0                       14                     8\n",
       "1                       14                    11\n",
       "2                       15                    11\n",
       "3                       90                    89\n",
       "4                        8                     8"
      ]
     },
     "execution_count": 6,
     "metadata": {},
     "output_type": "execute_result"
    }
   ],
   "source": [
    "selected_columns = ['goalkeeping_positioning', 'goalkeeping_reflexes']\n",
    "df = df[selected_columns]\n",
    "df.head()"
   ]
  },
  {
   "cell_type": "markdown",
   "metadata": {},
   "source": [
    "Check missing values"
   ]
  },
  {
   "cell_type": "code",
   "execution_count": 7,
   "metadata": {},
   "outputs": [
    {
     "data": {
      "text/plain": [
       "goalkeeping_reflexes       0.0\n",
       "goalkeeping_positioning    0.0\n",
       "dtype: float64"
      ]
     },
     "execution_count": 7,
     "metadata": {},
     "output_type": "execute_result"
    }
   ],
   "source": [
    "df_clean = df.copy()\n",
    "nan_percentage = df_clean.isnull().sum().sort_values(ascending=False) / df_clean.shape[0]\n",
    "missing_val = nan_percentage[nan_percentage > 0]\n",
    "nan_percentage"
   ]
  },
  {
   "cell_type": "markdown",
   "metadata": {},
   "source": [
    "### Define functions"
   ]
  },
  {
   "cell_type": "code",
   "execution_count": 51,
   "metadata": {},
   "outputs": [],
   "source": [
    "def euclidean_distance(a, b): #calculate euclidean distance\n",
    "    return np.sqrt(np.sum((a - b)**2))\n",
    "def is_convergen(old, new, K): #check is new clusters convergen or not, if convergen it will stop the loop\n",
    "    distances = [euclidean_distance(old[i], new[i]) for i in range(K)]\n",
    "    return sum(distances) == 0\n",
    "def select_centroid(data, centroids):\n",
    "    distances = [euclidean_distance(data, point) for point in centroids]\n",
    "    print(distances)\n",
    "    return np.argmin(distances)\n",
    "def get_centroids(clusters, K, n_features, X):\n",
    "    # assign mean value of clusters to centroids\n",
    "    centroids = np.zeros((K, n_features))\n",
    "    for cluster_idx, cluster in enumerate(clusters):\n",
    "        cluster_mean = np.mean(X[cluster], axis=0)\n",
    "        centroids[cluster_idx] = cluster_mean\n",
    "    return centroids"
   ]
  },
  {
   "cell_type": "markdown",
   "metadata": {},
   "source": [
    "### Main Program"
   ]
  },
  {
   "cell_type": "markdown",
   "metadata": {},
   "source": [
    "Define parameters"
   ]
  },
  {
   "cell_type": "code",
   "execution_count": 9,
   "metadata": {},
   "outputs": [],
   "source": [
    "K = 2\n",
    "max_iter = 100"
   ]
  },
  {
   "cell_type": "markdown",
   "metadata": {},
   "source": [
    "Prepare cluster"
   ]
  },
  {
   "cell_type": "code",
   "execution_count": 49,
   "metadata": {},
   "outputs": [],
   "source": [
    "X = np.array(df.head(100))\n",
    "clusters = [[] for _ in range(K)]\n",
    "n_data, n_feature = X.shape\n",
    "cancel_token = True\n",
    "i = 0\n",
    "#init random centroid\n",
    "rand_c = np.random.choice(n_data, K, replace=False)\n",
    "centroids = [np.array(X[idx]) for idx in rand_c]"
   ]
  },
  {
   "cell_type": "code",
   "execution_count": 52,
   "metadata": {},
   "outputs": [
    {
     "name": "stdout",
     "output_type": "stream",
     "text": [
      "iteration =  100\n"
     ]
    },
    {
     "data": {
      "text/plain": [
       "array([0, 0, 0, 0, 0, 0, 0, 0, 0, 0, 0, 0, 0, 0, 0, 0, 0, 0, 0, 0, 0, 0,\n",
       "       0, 0, 0, 0, 0, 0, 0, 0, 0, 0, 0, 0, 0, 0, 0, 0, 0, 0, 0, 0, 0, 0,\n",
       "       0, 0, 0, 0, 0, 0, 0, 0, 0, 0, 0, 0, 0, 0, 0, 0, 0, 0, 0, 0, 0, 0,\n",
       "       0, 0, 0, 0, 0, 0, 0, 0, 0, 0, 0, 0, 0, 0, 0, 0, 0, 0, 0, 0, 0, 0,\n",
       "       0, 0, 0, 0, 0, 0, 0, 0, 0, 0, 0, 0])"
      ]
     },
     "execution_count": 52,
     "metadata": {},
     "output_type": "execute_result"
    }
   ],
   "source": [
    "def kMeans(X, K = 2, max_iter = 100, verbose = True):\n",
    "    X = np.array(X)\n",
    "    n_data, n_feature = X.shape\n",
    "    y = np.full(n_data, -1)\n",
    "    cancel_token = True\n",
    "    i = 0\n",
    "    rand_c = np.random.choice(n_data, K, replace=False)\n",
    "    centroids = [np.array(X[idx]) for idx in rand_c]\n",
    "    \n",
    "    while(i < max_iter and cancel_token):\n",
    "        for idx, row in enumerate(X):\n",
    "            \n",
    "            y[idx] = select_centroid(row, centroids)\n",
    "#             clusters[centroid_idx].append(idx)\n",
    "            \n",
    "        old_centroids = centroids #save old centroids\n",
    "        #update new centroids\n",
    "        temp = np.zeros((K, n_feature)) #\n",
    "        for idx, cluster in enumerate(clusters) : #for each member of cluster, get mean value\n",
    "            temp[idx] = np.mean(X[cluster])\n",
    "        centroids = temp #UPDATE!\n",
    "        if is_convergen(old_centroids, centroids, K):\n",
    "            cancel_token = False\n",
    "        i+=1\n",
    "        \n",
    "        if verbose:\n",
    "            clear_output(wait=True)\n",
    "            print('iteration = ' ,i)\n",
    "    return y\n",
    "kMeans(X, K, max_iter)"
   ]
  },
  {
   "cell_type": "code",
   "execution_count": 42,
   "metadata": {},
   "outputs": [
    {
     "data": {
      "text/plain": [
       "array([14, 14, 15, 90,  8, 10, 88, 11, 14, 11], dtype=int64)"
      ]
     },
     "execution_count": 42,
     "metadata": {},
     "output_type": "execute_result"
    }
   ],
   "source": [
    "X[0:,0]"
   ]
  },
  {
   "cell_type": "code",
   "execution_count": 55,
   "metadata": {},
   "outputs": [],
   "source": [
    "while(i < max_iter and cancel_token):\n",
    "    for idx, row in enumerate(X):\n",
    "        centroid_idx = select_centroid(row, centroids)\n",
    "        clusters[centroid_idx].append(idx)\n",
    "    old_centroids = centroids #save old centroids\n",
    "    #update new centroids\n",
    "    temp = np.zeros((K, n_feature)) #\n",
    "    for idx, cluster in enumerate(clusters) : #for each member of cluster, get mean value\n",
    "        temp[idx] = np.mean(X[cluster])\n",
    "    centroids = temp #UPDATE!\n",
    "    if is_convergen(old_centroids, centroids, K):\n",
    "        cancel_token = False\n",
    "    i+=1\n",
    "    print('iteration = ' ,i)\n",
    "    clear_output(wait=True)"
   ]
  },
  {
   "cell_type": "code",
   "execution_count": 31,
   "metadata": {},
   "outputs": [
    {
     "name": "stdout",
     "output_type": "stream",
     "text": [
      "[[90 89]\n",
      " [88 90]\n",
      " [90 89]\n",
      " ...\n",
      " [48 51]\n",
      " [47 51]\n",
      " [43 45]]\n",
      "[[14  8]\n",
      " [14 11]\n",
      " [15 11]\n",
      " ...\n",
      " [ 6 14]\n",
      " [13 13]\n",
      " [ 9 10]]\n"
     ]
    }
   ],
   "source": [
    "for idx, cluster in enumerate(clusters):\n",
    "    print(X[cluster])"
   ]
  },
  {
   "cell_type": "markdown",
   "metadata": {},
   "source": [
    "### Print the output label"
   ]
  },
  {
   "cell_type": "code",
   "execution_count": 56,
   "metadata": {},
   "outputs": [],
   "source": [
    "data_output = pd.DataFrame()\n",
    "data_output['X'] = np.empty(n_data)\n",
    "data_output['y'] = np.empty(n_data)\n",
    "data_output['cluster'] = np.empty(n_data)\n",
    "\n",
    "for cluster_idx, cluster in enumerate(clusters):\n",
    "    for sample_index in cluster:\n",
    "#         labels[sample_index] = cluster_idx\n",
    "        data_output['X'][sample_index] = X[sample_index][0]\n",
    "        data_output['y'][sample_index] = X[sample_index][1]        \n",
    "        data_output['cluster'][sample_index] = cluster_idx      "
   ]
  },
  {
   "cell_type": "code",
   "execution_count": 57,
   "metadata": {},
   "outputs": [
    {
     "data": {
      "text/html": [
       "<div>\n",
       "<style scoped>\n",
       "    .dataframe tbody tr th:only-of-type {\n",
       "        vertical-align: middle;\n",
       "    }\n",
       "\n",
       "    .dataframe tbody tr th {\n",
       "        vertical-align: top;\n",
       "    }\n",
       "\n",
       "    .dataframe thead th {\n",
       "        text-align: right;\n",
       "    }\n",
       "</style>\n",
       "<table border=\"1\" class=\"dataframe\">\n",
       "  <thead>\n",
       "    <tr style=\"text-align: right;\">\n",
       "      <th></th>\n",
       "      <th>X</th>\n",
       "      <th>y</th>\n",
       "      <th>cluster</th>\n",
       "    </tr>\n",
       "  </thead>\n",
       "  <tbody>\n",
       "    <tr>\n",
       "      <th>0</th>\n",
       "      <td>14.0</td>\n",
       "      <td>8.0</td>\n",
       "      <td>1.0</td>\n",
       "    </tr>\n",
       "    <tr>\n",
       "      <th>1</th>\n",
       "      <td>14.0</td>\n",
       "      <td>11.0</td>\n",
       "      <td>1.0</td>\n",
       "    </tr>\n",
       "    <tr>\n",
       "      <th>2</th>\n",
       "      <td>15.0</td>\n",
       "      <td>11.0</td>\n",
       "      <td>1.0</td>\n",
       "    </tr>\n",
       "    <tr>\n",
       "      <th>3</th>\n",
       "      <td>90.0</td>\n",
       "      <td>89.0</td>\n",
       "      <td>0.0</td>\n",
       "    </tr>\n",
       "    <tr>\n",
       "      <th>4</th>\n",
       "      <td>8.0</td>\n",
       "      <td>8.0</td>\n",
       "      <td>1.0</td>\n",
       "    </tr>\n",
       "    <tr>\n",
       "      <th>5</th>\n",
       "      <td>10.0</td>\n",
       "      <td>13.0</td>\n",
       "      <td>1.0</td>\n",
       "    </tr>\n",
       "    <tr>\n",
       "      <th>6</th>\n",
       "      <td>88.0</td>\n",
       "      <td>90.0</td>\n",
       "      <td>0.0</td>\n",
       "    </tr>\n",
       "    <tr>\n",
       "      <th>7</th>\n",
       "      <td>11.0</td>\n",
       "      <td>11.0</td>\n",
       "      <td>1.0</td>\n",
       "    </tr>\n",
       "    <tr>\n",
       "      <th>8</th>\n",
       "      <td>14.0</td>\n",
       "      <td>9.0</td>\n",
       "      <td>1.0</td>\n",
       "    </tr>\n",
       "    <tr>\n",
       "      <th>9</th>\n",
       "      <td>11.0</td>\n",
       "      <td>14.0</td>\n",
       "      <td>1.0</td>\n",
       "    </tr>\n",
       "  </tbody>\n",
       "</table>\n",
       "</div>"
      ],
      "text/plain": [
       "      X     y  cluster\n",
       "0  14.0   8.0      1.0\n",
       "1  14.0  11.0      1.0\n",
       "2  15.0  11.0      1.0\n",
       "3  90.0  89.0      0.0\n",
       "4   8.0   8.0      1.0\n",
       "5  10.0  13.0      1.0\n",
       "6  88.0  90.0      0.0\n",
       "7  11.0  11.0      1.0\n",
       "8  14.0   9.0      1.0\n",
       "9  11.0  14.0      1.0"
      ]
     },
     "execution_count": 57,
     "metadata": {},
     "output_type": "execute_result"
    }
   ],
   "source": [
    "data_output.head(10)"
   ]
  },
  {
   "cell_type": "markdown",
   "metadata": {},
   "source": [
    "### Plot the data"
   ]
  },
  {
   "cell_type": "code",
   "execution_count": 58,
   "metadata": {},
   "outputs": [
    {
     "data": {
      "image/png": "[encoded data removed]",
      "text/plain": [
       "<Figure size 864x576 with 1 Axes>"
      ]
     },
     "metadata": {
      "needs_background": "light"
     },
     "output_type": "display_data"
    }
   ],
   "source": [
    "fig, ax = plt.subplots(figsize=(12, 8))\n",
    "for i, index in enumerate(clusters):\n",
    "    point = X[index].T\n",
    "    ax.scatter(*point)\n",
    "for point in centroids:\n",
    "    ax.scatter(*point, marker=\"x\", color='black', linewidth=2)\n",
    "plt.show()"
   ]
  },
  {
   "cell_type": "code",
   "execution_count": 15,
   "metadata": {},
   "outputs": [
    {
     "data": {
      "image/png": "[encoded data removed]",
      "text/plain": [
       "<Figure size 720x720 with 1 Axes>"
      ]
     },
     "metadata": {
      "needs_background": "light"
     },
     "output_type": "display_data"
    }
   ],
   "source": [
    "plt.figure(figsize=(10, 10))\n",
    "sns.scatterplot(x='X', y='y', hue='cluster', data=data_output)\n",
    "plt.show()"
   ]
  },
  {
   "cell_type": "markdown",
   "metadata": {},
   "source": [
    "## Evaluate Score\n",
    "\n",
    "Using silhouette coefficient\n",
    "\n",
    "![Function](sihouette.jpg)\n",
    "\n",
    "https://medium.com/@ODSC/assessment-metrics-for-clustering-algorithms-4a902e00d92d"
   ]
  },
  {
   "cell_type": "code",
   "execution_count": 16,
   "metadata": {},
   "outputs": [],
   "source": [
    "from sklearn.metrics import silhouette_samples, silhouette_score"
   ]
  },
  {
   "cell_type": "code",
   "execution_count": 17,
   "metadata": {},
   "outputs": [
    {
     "data": {
      "text/plain": [
       "array([1., 1., 1., 0., 1., 1., 0., 1., 1., 1., 1., 1., 1., 0., 0., 1., 1.,\n",
       "       1., 1., 1., 1., 1., 1., 1., 1., 0., 1., 1., 0., 1., 0., 0., 0., 1.,\n",
       "       1., 1., 1., 1., 1., 1., 1., 1., 1., 1., 1., 1., 1., 1., 1., 1., 1.,\n",
       "       1., 1., 0., 1., 1., 1., 1., 1., 1., 0., 1., 1., 1., 1., 1., 1., 1.,\n",
       "       1., 1., 1., 1., 1., 1., 0., 1., 1., 1., 1., 1., 1., 1., 1., 1., 1.,\n",
       "       1., 0., 0., 0., 1., 1., 0., 1., 1., 1., 1., 1., 1., 1., 1.])"
      ]
     },
     "execution_count": 17,
     "metadata": {},
     "output_type": "execute_result"
    }
   ],
   "source": [
    "output_labels = np.zeros(X.shape[0])\n",
    "for i in range(len(clusters)):\n",
    "    for j in range(len(clusters[i])):\n",
    "        output_labels[clusters[i][j]] = i\n",
    "output_labels[:100]"
   ]
  },
  {
   "cell_type": "code",
   "execution_count": 18,
   "metadata": {},
   "outputs": [
    {
     "data": {
      "text/plain": [
       "array([0.92769251, 0.93169168, 0.9222275 , ..., 0.91564805, 0.9311643 ,\n",
       "       0.94663444])"
      ]
     },
     "execution_count": 18,
     "metadata": {},
     "output_type": "execute_result"
    }
   ],
   "source": [
    "result = silhouette_samples(X,output_labels)\n",
    "result"
   ]
  },
  {
   "cell_type": "code",
   "execution_count": 19,
   "metadata": {},
   "outputs": [
    {
     "data": {
      "text/plain": [
       "0.9160930424847247"
      ]
     },
     "execution_count": 19,
     "metadata": {},
     "output_type": "execute_result"
    }
   ],
   "source": [
    "np.mean(result)"
   ]
  },
  {
   "cell_type": "markdown",
   "metadata": {},
   "source": [
    "The average score is close to 1 so it can be as an ‘appropriate’ cluster."
   ]
  }
 ],
 "metadata": {
  "kernelspec": {
   "display_name": "Python 3",
   "language": "python",
   "name": "python3"
  },
  "language_info": {
   "codemirror_mode": {
    "name": "ipython",
    "version": 3
   },
   "file_extension": ".py",
   "mimetype": "text/x-python",
   "name": "python",
   "nbconvert_exporter": "python",
   "pygments_lexer": "ipython3",
   "version": "3.7.4"
  }
 },
 "nbformat": 4,
 "nbformat_minor": 4
}
